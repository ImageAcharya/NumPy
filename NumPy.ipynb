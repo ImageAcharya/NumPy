{
 "cells": [
  {
   "cell_type": "code",
   "execution_count": 1,
   "id": "eaecbb02-64a7-4655-8029-1e21fa7a77ca",
   "metadata": {},
   "outputs": [],
   "source": [
    "#creating numpy/ n-d array\n",
    "import numpy as np"
   ]
  },
  {
   "cell_type": "code",
   "execution_count": 2,
   "id": "e4c0e073-5a69-4c4d-8257-87942b872116",
   "metadata": {},
   "outputs": [],
   "source": [
    "array1=np.array([1,2,3,4,5,6,8])"
   ]
  },
  {
   "cell_type": "code",
   "execution_count": 3,
   "id": "0d9ace55-b69e-4bbd-82de-461b6c5c6ba6",
   "metadata": {},
   "outputs": [
    {
     "data": {
      "text/plain": [
       "array([1, 2, 3, 4, 5, 6, 8])"
      ]
     },
     "execution_count": 3,
     "metadata": {},
     "output_type": "execute_result"
    }
   ],
   "source": [
    "array1"
   ]
  },
  {
   "cell_type": "code",
   "execution_count": 4,
   "id": "ae6861d1-5702-4e18-bdd0-9854410465d4",
   "metadata": {},
   "outputs": [],
   "source": [
    "array2=np.array([[2,3,4],[5,6,7]])"
   ]
  },
  {
   "cell_type": "code",
   "execution_count": 5,
   "id": "7b827ba8-a702-4042-af2e-fab76679ac5e",
   "metadata": {},
   "outputs": [
    {
     "data": {
      "text/plain": [
       "array([[2, 3, 4],\n",
       "       [5, 6, 7]])"
      ]
     },
     "execution_count": 5,
     "metadata": {},
     "output_type": "execute_result"
    }
   ],
   "source": [
    "array2"
   ]
  },
  {
   "cell_type": "code",
   "execution_count": 6,
   "id": "0a948e37-326c-404d-9759-13066e62847b",
   "metadata": {},
   "outputs": [],
   "source": [
    "array3=np.zeros((2))"
   ]
  },
  {
   "cell_type": "code",
   "execution_count": 7,
   "id": "0c8a79af-0c22-49ae-8617-3fce6d56c583",
   "metadata": {},
   "outputs": [
    {
     "data": {
      "text/plain": [
       "array([0., 0.])"
      ]
     },
     "execution_count": 7,
     "metadata": {},
     "output_type": "execute_result"
    }
   ],
   "source": [
    "array3"
   ]
  },
  {
   "cell_type": "code",
   "execution_count": 8,
   "id": "09588a2f-8573-4e7a-8b81-df3387ec77a3",
   "metadata": {},
   "outputs": [],
   "source": [
    "array4=np.zeros((2,3))"
   ]
  },
  {
   "cell_type": "code",
   "execution_count": 9,
   "id": "054aa2d8-0417-4e5c-acbe-1996739eeb45",
   "metadata": {},
   "outputs": [
    {
     "data": {
      "text/plain": [
       "array([[0., 0., 0.],\n",
       "       [0., 0., 0.]])"
      ]
     },
     "execution_count": 9,
     "metadata": {},
     "output_type": "execute_result"
    }
   ],
   "source": [
    "array4"
   ]
  },
  {
   "cell_type": "code",
   "execution_count": 10,
   "id": "5fc16de1-3ab8-4812-9192-936613232917",
   "metadata": {},
   "outputs": [],
   "source": [
    "array5=np.zeros((2,3,4))"
   ]
  },
  {
   "cell_type": "code",
   "execution_count": 11,
   "id": "eae6ce4d-3dd3-4719-9fc3-d1c5ab7ec04b",
   "metadata": {},
   "outputs": [
    {
     "data": {
      "text/plain": [
       "array([[[0., 0., 0., 0.],\n",
       "        [0., 0., 0., 0.],\n",
       "        [0., 0., 0., 0.]],\n",
       "\n",
       "       [[0., 0., 0., 0.],\n",
       "        [0., 0., 0., 0.],\n",
       "        [0., 0., 0., 0.]]])"
      ]
     },
     "execution_count": 11,
     "metadata": {},
     "output_type": "execute_result"
    }
   ],
   "source": [
    "array5"
   ]
  },
  {
   "cell_type": "code",
   "execution_count": 12,
   "id": "3731c236-a1e5-44ab-9fc3-16b1327bffbf",
   "metadata": {},
   "outputs": [],
   "source": [
    "#Creating an N-D Array with np.zeros, np.ones, and np.full"
   ]
  },
  {
   "cell_type": "code",
   "execution_count": 13,
   "id": "c7170ffb-3c9a-4cd3-8de1-c900fd5ad836",
   "metadata": {},
   "outputs": [],
   "source": [
    "#Using np.zeros"
   ]
  },
  {
   "cell_type": "code",
   "execution_count": 14,
   "id": "9706e3df-6169-441e-8522-7b09747befc5",
   "metadata": {},
   "outputs": [
    {
     "name": "stdout",
     "output_type": "stream",
     "text": [
      "[[[0. 0. 0. 0.]\n",
      "  [0. 0. 0. 0.]\n",
      "  [0. 0. 0. 0.]]\n",
      "\n",
      " [[0. 0. 0. 0.]\n",
      "  [0. 0. 0. 0.]\n",
      "  [0. 0. 0. 0.]]]\n"
     ]
    }
   ],
   "source": [
    "import numpy as np\n",
    "\n",
    "# Creating a 3-D array filled with zeros\n",
    "array_zeros = np.zeros((2, 3, 4))  # shape: 2x3x4\n",
    "print(array_zeros)\n"
   ]
  },
  {
   "cell_type": "code",
   "execution_count": 15,
   "id": "362b49e9-6ca9-4fb0-a7c6-bb842ac7ce11",
   "metadata": {},
   "outputs": [],
   "source": [
    "#Using np.ones"
   ]
  },
  {
   "cell_type": "code",
   "execution_count": 16,
   "id": "c6228d14-6732-424d-8cfd-4d68277c2749",
   "metadata": {},
   "outputs": [
    {
     "name": "stdout",
     "output_type": "stream",
     "text": [
      "[[[1. 1. 1. 1.]\n",
      "  [1. 1. 1. 1.]\n",
      "  [1. 1. 1. 1.]]\n",
      "\n",
      " [[1. 1. 1. 1.]\n",
      "  [1. 1. 1. 1.]\n",
      "  [1. 1. 1. 1.]]]\n"
     ]
    }
   ],
   "source": [
    "import numpy as np\n",
    "\n",
    "# Creating a 3-D array filled with ones\n",
    "array_ones = np.ones((2, 3, 4))  # shape: 2x3x4\n",
    "print( array_ones)\n"
   ]
  },
  {
   "cell_type": "code",
   "execution_count": 17,
   "id": "c2f0ae17-acc6-45aa-a46e-d88b7de7ad8f",
   "metadata": {},
   "outputs": [],
   "source": [
    "#Using np.full"
   ]
  },
  {
   "cell_type": "code",
   "execution_count": 18,
   "id": "b53bf397-9f1f-46cf-bc51-baedc560b916",
   "metadata": {},
   "outputs": [
    {
     "name": "stdout",
     "output_type": "stream",
     "text": [
      "[[[7 7 7 7]\n",
      "  [7 7 7 7]\n",
      "  [7 7 7 7]]\n",
      "\n",
      " [[7 7 7 7]\n",
      "  [7 7 7 7]\n",
      "  [7 7 7 7]]]\n"
     ]
    }
   ],
   "source": [
    "import numpy as np\n",
    "\n",
    "# Creating a 3-D array filled with a specified value\n",
    "array_full = np.full((2, 3, 4), 7)  # shape: 2x3x4, filled with 7\n",
    "print( array_full)\n"
   ]
  },
  {
   "cell_type": "code",
   "execution_count": 19,
   "id": "f97fa2bd-8543-43f3-a097-233b58937680",
   "metadata": {},
   "outputs": [],
   "source": [
    "#Creating an N-D Array with np.arange and np.reshape"
   ]
  },
  {
   "cell_type": "code",
   "execution_count": 20,
   "id": "0b661142-5fb0-429b-bd18-dc1b6abf0dfc",
   "metadata": {},
   "outputs": [
    {
     "name": "stdout",
     "output_type": "stream",
     "text": [
      "3-D array created with np.arange and reshaped:\n",
      " [[[ 0  1  2  3]\n",
      "  [ 4  5  6  7]\n",
      "  [ 8  9 10 11]]\n",
      "\n",
      " [[12 13 14 15]\n",
      "  [16 17 18 19]\n",
      "  [20 21 22 23]]]\n"
     ]
    }
   ],
   "source": [
    "import numpy as np\n",
    "\n",
    "# Creating a 1-D array and reshaping it to a 3-D array\n",
    "array_reshaped = np.arange(24).reshape((2, 3, 4))  # shape: 2x3x4\n",
    "print(\"3-D array created with np.arange and reshaped:\\n\", array_reshaped)\n"
   ]
  },
  {
   "cell_type": "code",
   "execution_count": 21,
   "id": "b16c3f18-e5ac-4c5e-aac7-58ef09603b48",
   "metadata": {},
   "outputs": [
    {
     "name": "stdout",
     "output_type": "stream",
     "text": [
      "2-D array created with np.linspace and reshaped:\n",
      " [ 0.          1.09090909  2.18181818  3.27272727  4.36363636  5.45454545\n",
      "  6.54545455  7.63636364  8.72727273  9.81818182 10.90909091 12.\n",
      " 13.09090909 14.18181818 15.27272727 16.36363636 17.45454545 18.54545455\n",
      " 19.63636364 20.72727273 21.81818182 22.90909091 24.        ]\n"
     ]
    }
   ],
   "source": [
    "import numpy as np\n",
    "\n",
    "# Creating a 1-D array of evenly spaced values and reshaping it to a 2-D array\n",
    "array_linspace = np.linspace(0, 24, 23)  # 24 values, reshaped to 4x6\n",
    "print(\"2-D array created with np.linspace and reshaped:\\n\", array_linspace)\n"
   ]
  },
  {
   "cell_type": "code",
   "execution_count": 22,
   "id": "30e98f3d-9ff4-45d4-87c0-38d76f03f324",
   "metadata": {},
   "outputs": [
    {
     "name": "stdout",
     "output_type": "stream",
     "text": [
      "2-D array created with np.linspace and reshaped:\n",
      " [[ 0.  1.  2.  3.  4.  5.]\n",
      " [ 6.  7.  8.  9. 10. 11.]\n",
      " [12. 13. 14. 15. 16. 17.]\n",
      " [18. 19. 20. 21. 22. 23.]]\n"
     ]
    }
   ],
   "source": [
    "import numpy as np\n",
    "\n",
    "# Creating a 1-D array of evenly spaced values and reshaping it to a 2-D array\n",
    "array_linspace = np.linspace(0, 23, 24).reshape((4, 6))  # 24 values, reshaped to 4x6\n",
    "print(\"2-D array created with np.linspace and reshaped:\\n\", array_linspace)\n"
   ]
  },
  {
   "cell_type": "code",
   "execution_count": 23,
   "id": "fcf79d30-341f-4adf-b0f5-ea45637cbfbe",
   "metadata": {},
   "outputs": [],
   "source": [
    "#Key Attributes of NumPy Arrays"
   ]
  },
  {
   "cell_type": "code",
   "execution_count": 24,
   "id": "259ee7e7-ac0c-426b-b6a7-489bd3134770",
   "metadata": {},
   "outputs": [],
   "source": [
    "#ndim"
   ]
  },
  {
   "cell_type": "code",
   "execution_count": 25,
   "id": "27b2b165-996f-4a37-88c4-41c1aeaac29f",
   "metadata": {},
   "outputs": [
    {
     "data": {
      "text/plain": [
       "3"
      ]
     },
     "execution_count": 25,
     "metadata": {},
     "output_type": "execute_result"
    }
   ],
   "source": [
    "import numpy as np\n",
    "\n",
    "# Create a 3-D array\n",
    "array = np.array([[[1, 2, 3], [4, 5, 6]], [[7, 8, 9], [10, 11, 12]]])\n",
    "array.ndim\n"
   ]
  },
  {
   "cell_type": "code",
   "execution_count": 26,
   "id": "2a5603da-7ade-4456-a8eb-f38529e76bbe",
   "metadata": {},
   "outputs": [],
   "source": [
    "#shape"
   ]
  },
  {
   "cell_type": "code",
   "execution_count": 27,
   "id": "e8a13367-da69-4493-8d62-1753f0ffa056",
   "metadata": {},
   "outputs": [
    {
     "data": {
      "text/plain": [
       "(2, 2, 3)"
      ]
     },
     "execution_count": 27,
     "metadata": {},
     "output_type": "execute_result"
    }
   ],
   "source": [
    "import numpy as np\n",
    "\n",
    "# Create a 3-D array\n",
    "array = np.array([[[1, 2, 3], [4, 5, 6]], [[7, 8, 9], [10, 11, 12]]])\n",
    "array\n",
    "array.shape\n"
   ]
  },
  {
   "cell_type": "code",
   "execution_count": 28,
   "id": "76a8525a-fd51-42d2-881a-d87835494ad1",
   "metadata": {},
   "outputs": [],
   "source": [
    " #size"
   ]
  },
  {
   "cell_type": "code",
   "execution_count": 29,
   "id": "163b4468-6377-4d98-91b8-4d5f78020887",
   "metadata": {},
   "outputs": [
    {
     "data": {
      "text/plain": [
       "12"
      ]
     },
     "execution_count": 29,
     "metadata": {},
     "output_type": "execute_result"
    }
   ],
   "source": [
    "import numpy as np\n",
    "\n",
    "# Create a 3-D array\n",
    "array = np.array([[[1, 2, 3], [4, 5, 6]], [[7, 8, 9], [10, 11, 12]]])\n",
    "array.size\n"
   ]
  },
  {
   "cell_type": "code",
   "execution_count": 30,
   "id": "ff52b522-d4a5-4f20-b955-5c3ffea406b2",
   "metadata": {},
   "outputs": [],
   "source": [
    "#dtype"
   ]
  },
  {
   "cell_type": "code",
   "execution_count": 31,
   "id": "a813aa8f-a0e6-4b3e-970f-52876ba7f736",
   "metadata": {},
   "outputs": [
    {
     "name": "stdout",
     "output_type": "stream",
     "text": [
      "int32\n"
     ]
    }
   ],
   "source": [
    "import numpy as np\n",
    "\n",
    "# Create a 3-D array\n",
    "array = np.array([[[1, 2, 3], [4, 5, 6]], [[7, 8, 9], [10, 11, 12]]])\n",
    "print(array.dtype)\n"
   ]
  },
  {
   "cell_type": "code",
   "execution_count": 32,
   "id": "f6d39c96-1d51-456a-9e53-2f53afe6b34f",
   "metadata": {},
   "outputs": [],
   "source": [
    "#itemsize"
   ]
  },
  {
   "cell_type": "code",
   "execution_count": 33,
   "id": "288fdd68-854c-45db-af25-379e798d9a5e",
   "metadata": {},
   "outputs": [
    {
     "name": "stdout",
     "output_type": "stream",
     "text": [
      "4\n"
     ]
    }
   ],
   "source": [
    "import numpy as np\n",
    "\n",
    "# Create a 3-D array\n",
    "array = np.array([[[1, 2, 3], [4, 5, 6]], [[7, 8, 9], [10, 11, 12]]])\n",
    "print(array.itemsize)\n"
   ]
  },
  {
   "cell_type": "code",
   "execution_count": 34,
   "id": "dc67be58-3f8c-4c30-8013-2a68cf4f9193",
   "metadata": {},
   "outputs": [
    {
     "name": "stdout",
     "output_type": "stream",
     "text": [
      "Addition: [[ 6  8 10 12]\n",
      " [13  7  9 11]]\n",
      "Multiplication: [[ 5 12 21 32]\n",
      " [36 10 18 28]]\n",
      "Exponentiation: [[ 1  4  9 16]\n",
      " [16 25 36 49]]\n"
     ]
    }
   ],
   "source": [
    "import numpy as np\n",
    "\n",
    "# Create arrays\n",
    "arr1 = np.array([[1, 2, 3, 4], [4,5,6,7]])\n",
    "arr2 = np.array([[5, 6, 7, 8], [9,2,3,4]])\n",
    "\n",
    "# Element-wise addition\n",
    "addition = arr1 + arr2\n",
    "print(\"Addition:\", addition)\n",
    "\n",
    "# Element-wise multiplication\n",
    "multiplication = arr1 * arr2\n",
    "print(\"Multiplication:\", multiplication)\n",
    "\n",
    "# Element-wise exponentiation\n",
    "exponentiation = arr1 ** 2\n",
    "print(\"Exponentiation:\", exponentiation)"
   ]
  },
  {
   "cell_type": "code",
   "execution_count": null,
   "id": "59bc2e3e-5bc0-42f0-b6a3-ba857cf4b3e3",
   "metadata": {},
   "outputs": [],
   "source": []
  },
  {
   "cell_type": "code",
   "execution_count": 1,
   "id": "a56cbeaa-80d9-41df-9e79-a157790a77bb",
   "metadata": {},
   "outputs": [],
   "source": [
    "#creating NumPy arrays with random numbers"
   ]
  },
  {
   "cell_type": "code",
   "execution_count": 2,
   "id": "960dc427-141d-41bd-a97f-208fff8d7c1d",
   "metadata": {},
   "outputs": [
    {
     "name": "stdout",
     "output_type": "stream",
     "text": [
      "[0.07062492 0.14154504 0.83116543 0.41889785 0.19763788 0.64313438\n",
      " 0.85457248 0.23369787 0.42285532 0.72758517]\n"
     ]
    }
   ],
   "source": [
    "#numpy.random.rand: Generates random numbers between 0 and 1.\n",
    "\n",
    "\n",
    "import numpy as np\n",
    "\n",
    "# Create a 1D array with 10 random numbers between 0 and 1\n",
    "array_1d = np.random.rand(10)\n",
    "print(array_1d)"
   ]
  },
  {
   "cell_type": "code",
   "execution_count": 3,
   "id": "cd54aefb-cbd3-43eb-b955-2349f113c9d5",
   "metadata": {},
   "outputs": [
    {
     "name": "stdout",
     "output_type": "stream",
     "text": [
      "[[0.2240083  0.33125225 0.62155789 0.85528286]\n",
      " [0.96562062 0.00835148 0.77283353 0.49779664]\n",
      " [0.34319465 0.50050927 0.86125554 0.86067338]]\n"
     ]
    }
   ],
   "source": [
    "# Create a 2D array with random numbers between 0 and 1\n",
    "array_2d = np.random.rand(3, 4)\n",
    "print(array_2d)"
   ]
  },
  {
   "cell_type": "code",
   "execution_count": 4,
   "id": "4630ab3c-e1ed-4d5f-b05f-c271cefcec30",
   "metadata": {},
   "outputs": [
    {
     "name": "stdout",
     "output_type": "stream",
     "text": [
      "[-0.69363032  0.02574073  0.16594774  0.42396946 -0.32485488  1.46932913\n",
      " -0.68870583 -1.00810267  0.33785543 -0.09651295]\n",
      "[[-0.09945682  0.82200449 -0.47309611 -0.48793498]\n",
      " [ 0.52393746  0.32153731  0.88466645 -0.10065787]\n",
      " [-1.32610198 -0.68308517 -0.07328512  0.21971345]]\n"
     ]
    }
   ],
   "source": [
    "#numpy.random.randn: Generates random numbers from a standard normal distribution (mean = 0, standard deviation = 1).\n",
    "\n",
    "\n",
    "import numpy as np\n",
    "\n",
    "# Create a 1D array with 10 random numbers from a standard normal distribution\n",
    "array_1d_normal = np.random.randn(10)\n",
    "print(array_1d_normal)\n",
    "\n",
    "# Create a 2D array with random numbers from a standard normal distribution\n",
    "array_2d_normal = np.random.randn(3, 4)\n",
    "print(array_2d_normal)"
   ]
  },
  {
   "cell_type": "code",
   "execution_count": 5,
   "id": "153bdd57-d1c8-4db5-aa81-61750d8c1488",
   "metadata": {},
   "outputs": [
    {
     "name": "stdout",
     "output_type": "stream",
     "text": [
      "[83 56 74 44 14  6 46 74 89 89]\n",
      "[[23 38 83 79]\n",
      " [94 83 91 28]\n",
      " [33 10 82 42]]\n"
     ]
    }
   ],
   "source": [
    "#numpy.random.randint: Generates random integers between a specified range.\n",
    "\n",
    "\n",
    "import numpy as np\n",
    "\n",
    "# Create a 1D array with 10 random integers between 1 and 100\n",
    "array_int_1d = np.random.randint(1, 100, size=10)\n",
    "print(array_int_1d)\n",
    "\n",
    "# Create a 2D array with random integers between 1 and 100\n",
    "array_int_2d = np.random.randint(1, 100, size=(3, 4))\n",
    "print(array_int_2d)"
   ]
  },
  {
   "cell_type": "code",
   "execution_count": null,
   "id": "a8ca968c-dec9-43e6-8108-4944deed7af5",
   "metadata": {},
   "outputs": [],
   "source": []
  },
  {
   "cell_type": "code",
   "execution_count": 6,
   "id": "df066543-4668-487d-b61f-50f8a2cd6b15",
   "metadata": {},
   "outputs": [
    {
     "name": "stdout",
     "output_type": "stream",
     "text": [
      "[0.35044876 0.76395626 0.96433003 0.27564087 0.89549836 0.92722882\n",
      " 0.32021201 0.67301004 0.7436585  0.90763191]\n",
      "[[0.31469479 0.77424873 0.84336016 0.57397322]\n",
      " [0.79746599 0.25137003 0.65103988 0.47356098]\n",
      " [0.90545014 0.66607127 0.60154642 0.77919685]]\n"
     ]
    }
   ],
   "source": [
    "#numpy.random.random_sample: Generates random floats between 0 and 1.\n",
    "\n",
    "import numpy as np\n",
    "\n",
    "# Create a 1D array with 10 random floats between 0 and 1\n",
    "array_1d_sample = np.random.random_sample(10)\n",
    "print(array_1d_sample)\n",
    "\n",
    "# Create a 2D array with random floats between 0 and 1\n",
    "array_2d_sample = np.random.random_sample((3, 4))\n",
    "print(array_2d_sample)"
   ]
  },
  {
   "cell_type": "code",
   "execution_count": 7,
   "id": "56adf861-0cb5-469a-904c-81b47f032f50",
   "metadata": {},
   "outputs": [
    {
     "name": "stdout",
     "output_type": "stream",
     "text": [
      "[1 2 5 3 1 3 2 1 3 4]\n",
      "[[2 2 1 4]\n",
      " [2 3 2 1]\n",
      " [2 5 5 4]]\n"
     ]
    }
   ],
   "source": [
    "#numpy.random.choice: Generates a random sample from a given 1-D array.\n",
    "\n",
    "\n",
    "import numpy as np\n",
    "\n",
    "# Create a 1D array with a random sample of 10 elements from the given array\n",
    "array_choice_1d = np.random.choice([1, 2, 3, 4, 5], size=10)\n",
    "print(array_choice_1d)\n",
    "\n",
    "# Create a 2D array with a random sample from the given array\n",
    "array_choice_2d = np.random.choice([1, 2, 3, 4, 5], size=(3, 4))\n",
    "print(array_choice_2d)"
   ]
  },
  {
   "cell_type": "code",
   "execution_count": 8,
   "id": "4d7e2271-8fee-495d-9b88-c18742df81dc",
   "metadata": {},
   "outputs": [
    {
     "name": "stdout",
     "output_type": "stream",
     "text": [
      "[11.37022745 17.98900259 14.02390088 10.3975039  12.13907053 12.68152876\n",
      " 17.60089743 17.9301565  12.73905032 15.08072101]\n",
      "[[19.18817223 18.21143099 17.5580599  18.17819691]\n",
      " [11.85746711 16.533831   16.3754192  14.23872102]\n",
      " [14.17363022 16.21748527 16.2649934  14.93467844]]\n"
     ]
    }
   ],
   "source": [
    "#numpy.random.uniform: Generates random floats in a specified range.\n",
    "\n",
    "\n",
    "import numpy as np\n",
    "\n",
    "# Create a 1D array with 10 random floats between 10 and 20\n",
    "array_uniform_1d = np.random.uniform(10, 20, size=10)\n",
    "print(array_uniform_1d)\n",
    "\n",
    "# Create a 2D array with random floats between 10 and 20\n",
    "array_uniform_2d = np.random.uniform(10, 20, size=(3, 4))\n",
    "print(array_uniform_2d)"
   ]
  },
  {
   "cell_type": "code",
   "execution_count": 9,
   "id": "111827f9-652b-4907-ac5a-4a5346c529c6",
   "metadata": {},
   "outputs": [
    {
     "name": "stdout",
     "output_type": "stream",
     "text": [
      "(array([2, 3, 4], dtype=int64),)\n"
     ]
    }
   ],
   "source": [
    "#Searching Functions in NumPy\n",
    "#np.where(condition)\n",
    "\n",
    "#Returns the indices where the specified condition is true in the array.\n",
    "\n",
    "import numpy as np\n",
    "\n",
    "arr = np.array([1, 2, 3, 4, 5])\n",
    "indices = np.where(arr > 2)\n",
    "print(indices)  # Output: (array([2, 3, 4]),)"
   ]
  },
  {
   "cell_type": "code",
   "execution_count": 15,
   "id": "4376ce8b-4d7b-4015-817d-d10a5eb3ec1a",
   "metadata": {},
   "outputs": [
    {
     "name": "stdout",
     "output_type": "stream",
     "text": [
      "3 0\n",
      "[1 2 3 4 5]\n"
     ]
    }
   ],
   "source": [
    "#np.argmax(array) and np.argmin(array)\n",
    "#Returns the indices of the maximum and minimum values in the array, respectively.\n",
    "\n",
    "import numpy as np\n",
    "\n",
    "arr = np.array([1, 5, 3, 7, 2])\n",
    "max_index = np.argmax(arr)\n",
    "min_index = np.argmin(arr)\n",
    "print(max_index, min_index)  # Output: 3 0\n",
    "\n",
    "#Sorting Functions in NumPy\n",
    "#np.sort(array)\n",
    "\n",
    "#Returns a sorted copy of the array.\n",
    "import numpy as np\n",
    "\n",
    "arr = np.array([3, 1, 5, 2, 4])\n",
    "sorted_arr = np.sort(arr)\n",
    "print(sorted_arr)  # Output: [1 2 3 4 5]"
   ]
  },
  {
   "cell_type": "code",
   "execution_count": 14,
   "id": "3ceab1b5-376a-4a12-93dc-073e385a96df",
   "metadata": {},
   "outputs": [
    {
     "name": "stdout",
     "output_type": "stream",
     "text": [
      "[1 3 0 4 2]\n"
     ]
    }
   ],
   "source": [
    "#np.argsort(array)\n",
    "\n",
    "#Returns the indices that would sort the array.\n",
    "\n",
    "import numpy as np\n",
    "\n",
    "arr = np.array([3, 1, 5, 2, 4])\n",
    "sorted_indices = np.argsort(arr)\n",
    "print(sorted_indices)  # Output: [1 3 0 4 2]"
   ]
  },
  {
   "cell_type": "code",
   "execution_count": 13,
   "id": "b875749c-ca08-46bf-ac8d-701d31efdd21",
   "metadata": {},
   "outputs": [
    {
     "name": "stdout",
     "output_type": "stream",
     "text": [
      "[1 4]\n"
     ]
    }
   ],
   "source": [
    "#np.searchsorted(array, values)\n",
    "#This function is used to find the indices where elements from values should be inserted to maintain order in array. It assumes array is sorted.\n",
    "\n",
    "import numpy as np\n",
    "\n",
    "arr = np.array([1, 3, 5, 7, 9])\n",
    "values = [2, 8]\n",
    "indices = np.searchsorted(arr, values)\n",
    "print(indices)  # Output: [1 4]\n"
   ]
  },
  {
   "cell_type": "code",
   "execution_count": 12,
   "id": "5655889d-fd45-4c80-b628-aa51a177cb5d",
   "metadata": {},
   "outputs": [
    {
     "name": "stdout",
     "output_type": "stream",
     "text": [
      "[3 4 5]\n",
      "[3 4 5]\n"
     ]
    }
   ],
   "source": [
    "#Filtering in NumPy\n",
    "#Boolean Indexing\n",
    "\n",
    "#Using boolean arrays to filter elements in an array based on a condition.\n",
    "import numpy as np\n",
    "\n",
    "arr = np.array([1, 2, 3, 4, 5])\n",
    "condition = arr > 2\n",
    "filtered_arr = arr[condition]\n",
    "print(filtered_arr)  # Output: [3 4 5]\n",
    "np.where(condition)\n",
    "\n",
    "#As mentioned earlier, np.where can be used to filter elements based on a condition and return indices.\n",
    "\n",
    "import numpy as np\n",
    "\n",
    "arr = np.array([1, 2, 3, 4, 5])\n",
    "indices = np.where(arr > 2)\n",
    "filtered_arr = arr[indices]\n",
    "print(filtered_arr)  # Output: [3 4 5]"
   ]
  },
  {
   "cell_type": "code",
   "execution_count": 17,
   "id": "96712a90-5c73-4161-91f7-db386b476a60",
   "metadata": {},
   "outputs": [
    {
     "name": "stdout",
     "output_type": "stream",
     "text": [
      "[ 1  2 10  3  4  5]\n",
      "[1 6 7 2 3 4 5]\n",
      "[1 2 4 5]\n",
      "[2 3 5]\n"
     ]
    }
   ],
   "source": [
    "'''1. np.insert(array, index, values, axis=None)\n",
    "Purpose: Inserts values along the given axis before the given index.\n",
    "\n",
    "Parameters:\n",
    "\n",
    "array: Input array.\n",
    "index: Index or indices before which values is inserted.\n",
    "values: Values to be inserted.\n",
    "axis: Axis along which to insert. If not specified, the input array is flattened.\n",
    "Returns: A new array with values inserted before index.\n",
    "'''\n",
    "import numpy as np\n",
    "\n",
    "arr = np.array([1, 2, 3, 4, 5])\n",
    "\n",
    "# Inserting a single value at index 2\n",
    "new_arr = np.insert(arr, 2, 10)\n",
    "print(new_arr)  # Output: [ 1  2 10  3  4  5]\n",
    "\n",
    "# Inserting multiple values at index 1\n",
    "new_arr = np.insert(arr, 1, [6, 7])\n",
    "print(new_arr)  # Output: [1 6 7 2 3 4 5]\n",
    "\n",
    "\n",
    "'''2. np.delete(array, index, axis=None)\n",
    "Purpose: Deletes elements along the given axis before the given index.\n",
    "\n",
    "Parameters:\n",
    "\n",
    "array: Input array.\n",
    "index: Index or indices to delete.\n",
    "axis: Axis along which to delete. If not specified, the input array is flattened.\n",
    "Returns: A new array with elements at index deleted.\n",
    "'''\n",
    "\n",
    "import numpy as np\n",
    "\n",
    "arr = np.array([1, 2, 3, 4, 5])\n",
    "\n",
    "# Deleting element at index 2\n",
    "new_arr = np.delete(arr, 2)\n",
    "print(new_arr)  # Output: [1 2 4 5]\n",
    "\n",
    "# Deleting elements at indices 0 and 3\n",
    "new_arr = np.delete(arr, [0, 3])\n",
    "print(new_arr)  # Output: [2 3 5]"
   ]
  },
  {
   "cell_type": "code",
   "execution_count": null,
   "id": "5d34f052-1016-4f94-be0b-940267e74722",
   "metadata": {},
   "outputs": [],
   "source": []
  }
 ],
 "metadata": {
  "kernelspec": {
   "display_name": "Python 3 (ipykernel)",
   "language": "python",
   "name": "python3"
  },
  "language_info": {
   "codemirror_mode": {
    "name": "ipython",
    "version": 3
   },
   "file_extension": ".py",
   "mimetype": "text/x-python",
   "name": "python",
   "nbconvert_exporter": "python",
   "pygments_lexer": "ipython3",
   "version": "3.12.3"
  }
 },
 "nbformat": 4,
 "nbformat_minor": 5
}
